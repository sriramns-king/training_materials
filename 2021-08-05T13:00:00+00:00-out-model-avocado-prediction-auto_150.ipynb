{
 "cells": [
  {
   "cell_type": "code",
   "execution_count": 1,
   "metadata": {
    "_cell_guid": "79c7e3d0-c299-4dcb-8224-4455121ee9b0",
    "_uuid": "d629ff2d2480ee46fbb7e2d37f6b5fab8052498a",
    "execution": {
     "iopub.execute_input": "2021-08-05T13:43:55.462277Z",
     "iopub.status.busy": "2021-08-05T13:43:55.461391Z",
     "iopub.status.idle": "2021-08-05T13:43:56.696397Z",
     "shell.execute_reply": "2021-08-05T13:43:56.695396Z"
    },
    "jupyter": {
     "source_hidden": true
    },
    "papermill": {
     "duration": 1.253786,
     "end_time": "2021-08-05T13:43:56.696652",
     "exception": false,
     "start_time": "2021-08-05T13:43:55.442866",
     "status": "completed"
    },
    "tags": []
   },
   "outputs": [],
   "source": [
    "import pandas as pd\n",
    "import numpy as np\n",
    "from sqlalchemy import create_engine\n",
    "from datetime import date\n",
    "from sklearn.metrics import mean_squared_error"
   ]
  },
  {
   "cell_type": "code",
   "execution_count": 2,
   "metadata": {
    "execution": {
     "iopub.execute_input": "2021-08-05T13:43:56.720040Z",
     "iopub.status.busy": "2021-08-05T13:43:56.719312Z",
     "iopub.status.idle": "2021-08-05T13:43:56.767679Z",
     "shell.execute_reply": "2021-08-05T13:43:56.768297Z"
    },
    "jupyter": {
     "source_hidden": true
    },
    "papermill": {
     "duration": 0.063905,
     "end_time": "2021-08-05T13:43:56.768592",
     "exception": false,
     "start_time": "2021-08-05T13:43:56.704687",
     "status": "completed"
    },
    "tags": []
   },
   "outputs": [],
   "source": [
    "# THIS IS PURELY FOR TEST PURPOSE NEVER DO THAT IN PRODUCTION\n",
    "POSTGRES_ADDRESS='postgres'\n",
    "POSTGRES_PORT='5432'\n",
    "POSTGRES_USERNAME='postgres'\n",
    "POSTGRES_PASSWORD='postgres'\n",
    "\n",
    "postgres_conn = 'postgresql://{0}:{1}@{2}:{3}/'.format(POSTGRES_USERNAME, POSTGRES_PASSWORD, POSTGRES_ADDRESS, POSTGRES_PORT)\n",
    "\n",
    "# Create the connection\n",
    "cnx = create_engine(postgres_conn)\n"
   ]
  },
  {
   "cell_type": "markdown",
   "metadata": {
    "_uuid": "1998755ef10683262b29765345cff1c1c7d10b15",
    "papermill": {
     "duration": 0.00853,
     "end_time": "2021-08-05T13:43:56.785708",
     "exception": false,
     "start_time": "2021-08-05T13:43:56.777178",
     "status": "completed"
    },
    "tags": []
   },
   "source": [
    "Read in the Avocado Prices csv file as a DataFrame called df"
   ]
  },
  {
   "cell_type": "code",
   "execution_count": 3,
   "metadata": {
    "execution": {
     "iopub.execute_input": "2021-08-05T13:43:56.809597Z",
     "iopub.status.busy": "2021-08-05T13:43:56.808781Z",
     "iopub.status.idle": "2021-08-05T13:43:56.812739Z",
     "shell.execute_reply": "2021-08-05T13:43:56.812107Z"
    },
    "jupyter": {
     "source_hidden": true
    },
    "papermill": {
     "duration": 0.018628,
     "end_time": "2021-08-05T13:43:56.813050",
     "exception": false,
     "start_time": "2021-08-05T13:43:56.794422",
     "status": "completed"
    },
    "tags": [
     "parameters"
    ]
   },
   "outputs": [],
   "source": [
    "# Parameterized\n",
    "\n",
    "filepath='avocado.csv'\n",
    "ml_id='auto_100'\n",
    "ml_date=date.today()\n",
    "n_estimators = 100\n",
    "max_features = 'auto'"
   ]
  },
  {
   "cell_type": "code",
   "execution_count": 4,
   "id": "c7cf6974",
   "metadata": {
    "execution": {
     "iopub.execute_input": "2021-08-05T13:43:56.839729Z",
     "iopub.status.busy": "2021-08-05T13:43:56.838936Z",
     "iopub.status.idle": "2021-08-05T13:43:56.842812Z",
     "shell.execute_reply": "2021-08-05T13:43:56.843405Z"
    },
    "jupyter": {
     "source_hidden": true
    },
    "papermill": {
     "duration": 0.0199,
     "end_time": "2021-08-05T13:43:56.843683",
     "exception": false,
     "start_time": "2021-08-05T13:43:56.823783",
     "status": "completed"
    },
    "tags": [
     "injected-parameters"
    ]
   },
   "outputs": [],
   "source": [
    "# Parameters\n",
    "filepath = \"/tmp/avocado.csv\"\n",
    "n_estimators = 150\n",
    "max_features = \"auto\"\n",
    "ml_id = \"auto_150\"\n"
   ]
  },
  {
   "cell_type": "code",
   "execution_count": 5,
   "metadata": {
    "_uuid": "55d0e719eb8b91d763c1eacaf0f51ee0586486fc",
    "execution": {
     "iopub.execute_input": "2021-08-05T13:43:56.876667Z",
     "iopub.status.busy": "2021-08-05T13:43:56.875714Z",
     "iopub.status.idle": "2021-08-05T13:43:56.935126Z",
     "shell.execute_reply": "2021-08-05T13:43:56.935726Z"
    },
    "jupyter": {
     "source_hidden": true
    },
    "papermill": {
     "duration": 0.08385,
     "end_time": "2021-08-05T13:43:56.936059",
     "exception": false,
     "start_time": "2021-08-05T13:43:56.852209",
     "status": "completed"
    },
    "tags": []
   },
   "outputs": [],
   "source": [
    "df= pd.read_csv(filepath)"
   ]
  },
  {
   "cell_type": "markdown",
   "metadata": {
    "_uuid": "434e0457f550e2200424e5ec26162e1aa5904005",
    "papermill": {
     "duration": 0.017644,
     "end_time": "2021-08-05T13:43:56.962716",
     "exception": false,
     "start_time": "2021-08-05T13:43:56.945072",
     "status": "completed"
    },
    "tags": []
   },
   "source": [
    "The Feature \"Unnamed:0\" is just a representation of the indexes, so it's useless to keep it, lets remove it !"
   ]
  },
  {
   "cell_type": "code",
   "execution_count": 6,
   "metadata": {
    "_uuid": "9875398e37728dc3141fed4228be337a4735beb6",
    "execution": {
     "iopub.execute_input": "2021-08-05T13:43:57.016604Z",
     "iopub.status.busy": "2021-08-05T13:43:57.014939Z",
     "iopub.status.idle": "2021-08-05T13:43:57.018440Z",
     "shell.execute_reply": "2021-08-05T13:43:57.019248Z"
    },
    "jupyter": {
     "source_hidden": true
    },
    "papermill": {
     "duration": 0.027262,
     "end_time": "2021-08-05T13:43:57.019510",
     "exception": false,
     "start_time": "2021-08-05T13:43:56.992248",
     "status": "completed"
    },
    "tags": []
   },
   "outputs": [],
   "source": [
    "df.drop('Unnamed: 0',axis=1,inplace=True)"
   ]
  },
  {
   "cell_type": "markdown",
   "metadata": {
    "_uuid": "12e94ad381e4cb8d2c8a9bbe08ce07ab5d49c040",
    "papermill": {
     "duration": 0.013891,
     "end_time": "2021-08-05T13:43:57.044258",
     "exception": false,
     "start_time": "2021-08-05T13:43:57.030367",
     "status": "completed"
    },
    "tags": []
   },
   "source": [
    "well as a first observation we can see that we are lucky, we dont have any missing values (18249 complete data) and 13 columns.\n",
    "Now let's do some Feature Engineering on the Date Feature so we can be able to use the day and the month columns in building our machine learning model later. ( I didn't mention the year because its already there in data frame)"
   ]
  },
  {
   "cell_type": "code",
   "execution_count": 7,
   "metadata": {
    "_uuid": "f031639ce794656e877484d1c9c356df7028177f",
    "execution": {
     "iopub.execute_input": "2021-08-05T13:43:57.226822Z",
     "iopub.status.busy": "2021-08-05T13:43:57.225915Z",
     "iopub.status.idle": "2021-08-05T13:43:57.375639Z",
     "shell.execute_reply": "2021-08-05T13:43:57.374968Z"
    },
    "jupyter": {
     "source_hidden": true
    },
    "papermill": {
     "duration": 0.168219,
     "end_time": "2021-08-05T13:43:57.375883",
     "exception": false,
     "start_time": "2021-08-05T13:43:57.207664",
     "status": "completed"
    },
    "tags": []
   },
   "outputs": [],
   "source": [
    "df['Date']=pd.to_datetime(df['Date'])\n",
    "df['Month']=df['Date'].apply(lambda x:x.month)\n",
    "df['Day']=df['Date'].apply(lambda x:x.day)"
   ]
  },
  {
   "cell_type": "markdown",
   "metadata": {
    "_uuid": "ebdcac9924ce3e366fd3a75170682f7113385b7a",
    "papermill": {
     "duration": 0.008508,
     "end_time": "2021-08-05T13:43:57.392949",
     "exception": false,
     "start_time": "2021-08-05T13:43:57.384441",
     "status": "completed"
    },
    "tags": []
   },
   "source": [
    "as we can see we have 54 regions and 2 unique types, so it's going to be easy to to transform the type feature to dummies, but for the region its going to be a bit complexe so I decided to drop the entire column.\n",
    "I will drop the Date Feature as well because I already have 3 other columns for the Year, Month and Day."
   ]
  },
  {
   "cell_type": "code",
   "execution_count": 8,
   "metadata": {
    "_uuid": "a798682da34327b731ef262985fd50ba68e06460",
    "execution": {
     "iopub.execute_input": "2021-08-05T13:43:57.418656Z",
     "iopub.status.busy": "2021-08-05T13:43:57.417606Z",
     "iopub.status.idle": "2021-08-05T13:43:57.434032Z",
     "shell.execute_reply": "2021-08-05T13:43:57.434728Z"
    },
    "jupyter": {
     "source_hidden": true
    },
    "papermill": {
     "duration": 0.033589,
     "end_time": "2021-08-05T13:43:57.435071",
     "exception": false,
     "start_time": "2021-08-05T13:43:57.401482",
     "status": "completed"
    },
    "tags": []
   },
   "outputs": [],
   "source": [
    "df_final=pd.get_dummies(df.drop(['region','Date'],axis=1),drop_first=True)"
   ]
  },
  {
   "cell_type": "markdown",
   "metadata": {
    "_uuid": "8b74a6b88cb3e9b3e1d1e987e061048f203c7364",
    "papermill": {
     "duration": 0.016039,
     "end_time": "2021-08-05T13:43:57.460896",
     "exception": false,
     "start_time": "2021-08-05T13:43:57.444857",
     "status": "completed"
    },
    "tags": []
   },
   "source": [
    "Now our data are ready! lets apply our model which is going to be the Linear Regression because our Target variable 'AveragePrice'is continuous.\n",
    "Let's now begin to train out regression model! We will need to first split up our data into an X array that contains the features to train on, and a y array with the target variable"
   ]
  },
  {
   "cell_type": "code",
   "execution_count": 9,
   "metadata": {
    "_uuid": "830591f99de9715241e688bf9ce265e979401ff5",
    "execution": {
     "iopub.execute_input": "2021-08-05T13:43:57.510503Z",
     "iopub.status.busy": "2021-08-05T13:43:57.509646Z",
     "iopub.status.idle": "2021-08-05T13:43:57.531555Z",
     "shell.execute_reply": "2021-08-05T13:43:57.532354Z"
    },
    "jupyter": {
     "source_hidden": true
    },
    "papermill": {
     "duration": 0.055315,
     "end_time": "2021-08-05T13:43:57.532642",
     "exception": false,
     "start_time": "2021-08-05T13:43:57.477327",
     "status": "completed"
    },
    "tags": []
   },
   "outputs": [],
   "source": [
    "X=df_final.iloc[:,1:14]\n",
    "y=df_final['AveragePrice']\n",
    "from sklearn.model_selection import train_test_split\n",
    "X_train,X_test,y_train,y_test=train_test_split(X,y,test_size=0.2,random_state=42)"
   ]
  },
  {
   "cell_type": "markdown",
   "metadata": {
    "_uuid": "ea730c77a31cde9de98263079a189accb8b5772b",
    "papermill": {
     "duration": 0.009339,
     "end_time": "2021-08-05T13:43:57.551343",
     "exception": false,
     "start_time": "2021-08-05T13:43:57.542004",
     "status": "completed"
    },
    "tags": []
   },
   "source": [
    "Creating and Training the Model"
   ]
  },
  {
   "cell_type": "code",
   "execution_count": 10,
   "metadata": {
    "_uuid": "eb37015e78974e5fd2ae7e13d065c8ab0a9c6948",
    "execution": {
     "iopub.execute_input": "2021-08-05T13:43:57.577380Z",
     "iopub.status.busy": "2021-08-05T13:43:57.576583Z",
     "iopub.status.idle": "2021-08-05T13:44:12.328268Z",
     "shell.execute_reply": "2021-08-05T13:44:12.328809Z"
    },
    "jupyter": {
     "source_hidden": true
    },
    "papermill": {
     "duration": 14.768547,
     "end_time": "2021-08-05T13:44:12.329211",
     "exception": false,
     "start_time": "2021-08-05T13:43:57.560664",
     "status": "completed"
    },
    "tags": []
   },
   "outputs": [],
   "source": [
    "from sklearn.ensemble import RandomForestRegressor\n",
    "rdr = RandomForestRegressor(\n",
    "    n_estimators=n_estimators,\n",
    "    max_features=max_features\n",
    ")\n",
    "rdr.fit(X_train,y_train)\n",
    "pred=rdr.predict(X_test)"
   ]
  },
  {
   "cell_type": "code",
   "execution_count": 11,
   "metadata": {
    "_uuid": "7ed5b8d4e8abb44a4b548c13ac9fb2d65227d1c5",
    "execution": {
     "iopub.execute_input": "2021-08-05T13:44:12.352277Z",
     "iopub.status.busy": "2021-08-05T13:44:12.350852Z",
     "iopub.status.idle": "2021-08-05T13:44:12.355591Z",
     "shell.execute_reply": "2021-08-05T13:44:12.356306Z"
    },
    "jupyter": {
     "source_hidden": true
    },
    "papermill": {
     "duration": 0.018251,
     "end_time": "2021-08-05T13:44:12.356590",
     "exception": false,
     "start_time": "2021-08-05T13:44:12.338339",
     "status": "completed"
    },
    "tags": []
   },
   "outputs": [],
   "source": [
    "#%%capture cap --no-stderr\n",
    "#print(np.sqrt(mean_squared_error(y_test, pred)))"
   ]
  },
  {
   "cell_type": "code",
   "execution_count": 12,
   "metadata": {
    "execution": {
     "iopub.execute_input": "2021-08-05T13:44:12.379365Z",
     "iopub.status.busy": "2021-08-05T13:44:12.378580Z",
     "iopub.status.idle": "2021-08-05T13:44:12.382161Z",
     "shell.execute_reply": "2021-08-05T13:44:12.382827Z"
    },
    "jupyter": {
     "source_hidden": true
    },
    "papermill": {
     "duration": 0.016794,
     "end_time": "2021-08-05T13:44:12.383201",
     "exception": false,
     "start_time": "2021-08-05T13:44:12.366407",
     "status": "completed"
    },
    "tags": []
   },
   "outputs": [],
   "source": [
    "#with open(output_rmse, 'w') as f:\n",
    "#    f.write(cap.stdout)"
   ]
  },
  {
   "cell_type": "code",
   "execution_count": 13,
   "metadata": {
    "execution": {
     "iopub.execute_input": "2021-08-05T13:44:12.403826Z",
     "iopub.status.busy": "2021-08-05T13:44:12.402965Z",
     "iopub.status.idle": "2021-08-05T13:44:12.434736Z",
     "shell.execute_reply": "2021-08-05T13:44:12.435369Z"
    },
    "jupyter": {
     "source_hidden": true
    },
    "papermill": {
     "duration": 0.043788,
     "end_time": "2021-08-05T13:44:12.435671",
     "exception": false,
     "start_time": "2021-08-05T13:44:12.391883",
     "status": "completed"
    },
    "tags": []
   },
   "outputs": [
    {
     "data": {
      "text/plain": [
       "<sqlalchemy.engine.result.ResultProxy at 0x7f51bc7806d0>"
      ]
     },
     "execution_count": 13,
     "metadata": {},
     "output_type": "execute_result"
    }
   ],
   "source": [
    "cnx.execute(\"\"\"\n",
    "    INSERT INTO ml.accuracies (ml_id, ml_date, accuracy) VALUES ('{0}', '{1}', {2}) \n",
    "    ON CONFLICT (ml_id, ml_date) \n",
    "    DO\n",
    "        UPDATE SET accuracy = {2};\n",
    "    \"\"\".format(ml_id, ml_date, np.sqrt(mean_squared_error(y_test, pred))))"
   ]
  }
 ],
 "metadata": {
  "kernelspec": {
   "display_name": "Python 3",
   "language": "python",
   "name": "python3"
  },
  "language_info": {
   "codemirror_mode": {
    "name": "ipython",
    "version": 3
   },
   "file_extension": ".py",
   "mimetype": "text/x-python",
   "name": "python",
   "nbconvert_exporter": "python",
   "pygments_lexer": "ipython3",
   "version": "3.7.10"
  },
  "papermill": {
   "duration": 18.944861,
   "end_time": "2021-08-05T13:44:12.861978",
   "environment_variables": {},
   "exception": null,
   "input_path": "/usr/local/airflow/include/notebooks/avocado_prediction.ipynb",
   "output_path": "/tmp/out-model-avocado-prediction-auto_150.ipynb",
   "parameters": {
    "filepath": "/tmp/avocado.csv",
    "max_features": "auto",
    "ml_id": "auto_150",
    "n_estimators": 150
   },
   "start_time": "2021-08-05T13:43:53.917117",
   "version": "2.1.2"
  }
 },
 "nbformat": 4,
 "nbformat_minor": 4
}