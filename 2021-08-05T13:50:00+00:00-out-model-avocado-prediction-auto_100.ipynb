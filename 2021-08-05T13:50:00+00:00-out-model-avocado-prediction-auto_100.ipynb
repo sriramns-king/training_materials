{
 "cells": [
  {
   "cell_type": "code",
   "execution_count": 1,
   "metadata": {
    "_cell_guid": "79c7e3d0-c299-4dcb-8224-4455121ee9b0",
    "_uuid": "d629ff2d2480ee46fbb7e2d37f6b5fab8052498a",
    "execution": {
     "iopub.execute_input": "2021-08-05T14:00:57.105716Z",
     "iopub.status.busy": "2021-08-05T14:00:57.104765Z",
     "iopub.status.idle": "2021-08-05T14:00:58.479985Z",
     "shell.execute_reply": "2021-08-05T14:00:58.478936Z"
    },
    "jupyter": {
     "source_hidden": true
    },
    "papermill": {
     "duration": 1.393198,
     "end_time": "2021-08-05T14:00:58.480251",
     "exception": false,
     "start_time": "2021-08-05T14:00:57.087053",
     "status": "completed"
    },
    "tags": []
   },
   "outputs": [],
   "source": [
    "import pandas as pd\n",
    "import numpy as np\n",
    "from sqlalchemy import create_engine\n",
    "from datetime import date\n",
    "from sklearn.metrics import mean_squared_error"
   ]
  },
  {
   "cell_type": "code",
   "execution_count": 2,
   "metadata": {
    "execution": {
     "iopub.execute_input": "2021-08-05T14:00:58.504637Z",
     "iopub.status.busy": "2021-08-05T14:00:58.503649Z",
     "iopub.status.idle": "2021-08-05T14:00:58.559788Z",
     "shell.execute_reply": "2021-08-05T14:00:58.559137Z"
    },
    "jupyter": {
     "source_hidden": true
    },
    "papermill": {
     "duration": 0.070877,
     "end_time": "2021-08-05T14:00:58.560118",
     "exception": false,
     "start_time": "2021-08-05T14:00:58.489241",
     "status": "completed"
    },
    "tags": []
   },
   "outputs": [],
   "source": [
    "# THIS IS PURELY FOR TEST PURPOSE NEVER DO THAT IN PRODUCTION\n",
    "POSTGRES_ADDRESS='postgres'\n",
    "POSTGRES_PORT='5432'\n",
    "POSTGRES_USERNAME='postgres'\n",
    "POSTGRES_PASSWORD='postgres'\n",
    "\n",
    "postgres_conn = 'postgresql://{0}:{1}@{2}:{3}/'.format(POSTGRES_USERNAME, POSTGRES_PASSWORD, POSTGRES_ADDRESS, POSTGRES_PORT)\n",
    "\n",
    "# Create the connection\n",
    "cnx = create_engine(postgres_conn)\n"
   ]
  },
  {
   "cell_type": "markdown",
   "metadata": {
    "_uuid": "1998755ef10683262b29765345cff1c1c7d10b15",
    "papermill": {
     "duration": 0.007777,
     "end_time": "2021-08-05T14:00:58.576704",
     "exception": false,
     "start_time": "2021-08-05T14:00:58.568927",
     "status": "completed"
    },
    "tags": []
   },
   "source": [
    "Read in the Avocado Prices csv file as a DataFrame called df"
   ]
  },
  {
   "cell_type": "code",
   "execution_count": 3,
   "metadata": {
    "execution": {
     "iopub.execute_input": "2021-08-05T14:00:58.598993Z",
     "iopub.status.busy": "2021-08-05T14:00:58.598106Z",
     "iopub.status.idle": "2021-08-05T14:00:58.601992Z",
     "shell.execute_reply": "2021-08-05T14:00:58.601370Z"
    },
    "jupyter": {
     "source_hidden": true
    },
    "papermill": {
     "duration": 0.017352,
     "end_time": "2021-08-05T14:00:58.602228",
     "exception": false,
     "start_time": "2021-08-05T14:00:58.584876",
     "status": "completed"
    },
    "tags": [
     "parameters"
    ]
   },
   "outputs": [],
   "source": [
    "# Parameterized\n",
    "\n",
    "filepath='avocado.csv'\n",
    "ml_id='auto_100'\n",
    "ml_date=date.today()\n",
    "n_estimators = 100\n",
    "max_features = 'auto'"
   ]
  },
  {
   "cell_type": "code",
   "execution_count": 4,
   "id": "c0cf2b53",
   "metadata": {
    "execution": {
     "iopub.execute_input": "2021-08-05T14:00:58.624383Z",
     "iopub.status.busy": "2021-08-05T14:00:58.623643Z",
     "iopub.status.idle": "2021-08-05T14:00:58.628047Z",
     "shell.execute_reply": "2021-08-05T14:00:58.627423Z"
    },
    "jupyter": {
     "source_hidden": true
    },
    "papermill": {
     "duration": 0.017825,
     "end_time": "2021-08-05T14:00:58.628287",
     "exception": false,
     "start_time": "2021-08-05T14:00:58.610462",
     "status": "completed"
    },
    "tags": [
     "injected-parameters"
    ]
   },
   "outputs": [],
   "source": [
    "# Parameters\n",
    "filepath = \"/tmp/avocado.csv\"\n",
    "n_estimators = 100\n",
    "max_features = \"auto\"\n",
    "ml_id = \"auto_100\"\n"
   ]
  },
  {
   "cell_type": "code",
   "execution_count": 5,
   "metadata": {
    "_uuid": "55d0e719eb8b91d763c1eacaf0f51ee0586486fc",
    "execution": {
     "iopub.execute_input": "2021-08-05T14:00:58.651884Z",
     "iopub.status.busy": "2021-08-05T14:00:58.650965Z",
     "iopub.status.idle": "2021-08-05T14:00:58.699151Z",
     "shell.execute_reply": "2021-08-05T14:00:58.698234Z"
    },
    "jupyter": {
     "source_hidden": true
    },
    "papermill": {
     "duration": 0.062864,
     "end_time": "2021-08-05T14:00:58.699436",
     "exception": false,
     "start_time": "2021-08-05T14:00:58.636572",
     "status": "completed"
    },
    "tags": []
   },
   "outputs": [],
   "source": [
    "df= pd.read_csv(filepath)"
   ]
  },
  {
   "cell_type": "markdown",
   "metadata": {
    "_uuid": "434e0457f550e2200424e5ec26162e1aa5904005",
    "papermill": {
     "duration": 0.008636,
     "end_time": "2021-08-05T14:00:58.718179",
     "exception": false,
     "start_time": "2021-08-05T14:00:58.709543",
     "status": "completed"
    },
    "tags": []
   },
   "source": [
    "The Feature \"Unnamed:0\" is just a representation of the indexes, so it's useless to keep it, lets remove it !"
   ]
  },
  {
   "cell_type": "code",
   "execution_count": 6,
   "metadata": {
    "_uuid": "9875398e37728dc3141fed4228be337a4735beb6",
    "execution": {
     "iopub.execute_input": "2021-08-05T14:00:58.749593Z",
     "iopub.status.busy": "2021-08-05T14:00:58.748810Z",
     "iopub.status.idle": "2021-08-05T14:00:58.752389Z",
     "shell.execute_reply": "2021-08-05T14:00:58.751280Z"
    },
    "jupyter": {
     "source_hidden": true
    },
    "papermill": {
     "duration": 0.024791,
     "end_time": "2021-08-05T14:00:58.752695",
     "exception": false,
     "start_time": "2021-08-05T14:00:58.727904",
     "status": "completed"
    },
    "tags": []
   },
   "outputs": [],
   "source": [
    "df.drop('Unnamed: 0',axis=1,inplace=True)"
   ]
  },
  {
   "cell_type": "markdown",
   "metadata": {
    "_uuid": "12e94ad381e4cb8d2c8a9bbe08ce07ab5d49c040",
    "papermill": {
     "duration": 0.009509,
     "end_time": "2021-08-05T14:00:58.772496",
     "exception": false,
     "start_time": "2021-08-05T14:00:58.762987",
     "status": "completed"
    },
    "tags": []
   },
   "source": [
    "well as a first observation we can see that we are lucky, we dont have any missing values (18249 complete data) and 13 columns.\n",
    "Now let's do some Feature Engineering on the Date Feature so we can be able to use the day and the month columns in building our machine learning model later. ( I didn't mention the year because its already there in data frame)"
   ]
  },
  {
   "cell_type": "code",
   "execution_count": 7,
   "metadata": {
    "_uuid": "f031639ce794656e877484d1c9c356df7028177f",
    "execution": {
     "iopub.execute_input": "2021-08-05T14:00:58.981456Z",
     "iopub.status.busy": "2021-08-05T14:00:58.978731Z",
     "iopub.status.idle": "2021-08-05T14:00:59.149360Z",
     "shell.execute_reply": "2021-08-05T14:00:59.148417Z"
    },
    "jupyter": {
     "source_hidden": true
    },
    "papermill": {
     "duration": 0.189804,
     "end_time": "2021-08-05T14:00:59.149628",
     "exception": false,
     "start_time": "2021-08-05T14:00:58.959824",
     "status": "completed"
    },
    "tags": []
   },
   "outputs": [],
   "source": [
    "df['Date']=pd.to_datetime(df['Date'])\n",
    "df['Month']=df['Date'].apply(lambda x:x.month)\n",
    "df['Day']=df['Date'].apply(lambda x:x.day)"
   ]
  },
  {
   "cell_type": "markdown",
   "metadata": {
    "_uuid": "ebdcac9924ce3e366fd3a75170682f7113385b7a",
    "papermill": {
     "duration": 0.010695,
     "end_time": "2021-08-05T14:00:59.170097",
     "exception": false,
     "start_time": "2021-08-05T14:00:59.159402",
     "status": "completed"
    },
    "tags": []
   },
   "source": [
    "as we can see we have 54 regions and 2 unique types, so it's going to be easy to to transform the type feature to dummies, but for the region its going to be a bit complexe so I decided to drop the entire column.\n",
    "I will drop the Date Feature as well because I already have 3 other columns for the Year, Month and Day."
   ]
  },
  {
   "cell_type": "code",
   "execution_count": 8,
   "metadata": {
    "_uuid": "a798682da34327b731ef262985fd50ba68e06460",
    "execution": {
     "iopub.execute_input": "2021-08-05T14:00:59.202259Z",
     "iopub.status.busy": "2021-08-05T14:00:59.194232Z",
     "iopub.status.idle": "2021-08-05T14:00:59.209568Z",
     "shell.execute_reply": "2021-08-05T14:00:59.208665Z"
    },
    "jupyter": {
     "source_hidden": true
    },
    "papermill": {
     "duration": 0.031389,
     "end_time": "2021-08-05T14:00:59.209896",
     "exception": false,
     "start_time": "2021-08-05T14:00:59.178507",
     "status": "completed"
    },
    "tags": []
   },
   "outputs": [],
   "source": [
    "df_final=pd.get_dummies(df.drop(['region','Date'],axis=1),drop_first=True)"
   ]
  },
  {
   "cell_type": "markdown",
   "metadata": {
    "_uuid": "8b74a6b88cb3e9b3e1d1e987e061048f203c7364",
    "papermill": {
     "duration": 0.014489,
     "end_time": "2021-08-05T14:00:59.233548",
     "exception": false,
     "start_time": "2021-08-05T14:00:59.219059",
     "status": "completed"
    },
    "tags": []
   },
   "source": [
    "Now our data are ready! lets apply our model which is going to be the Linear Regression because our Target variable 'AveragePrice'is continuous.\n",
    "Let's now begin to train out regression model! We will need to first split up our data into an X array that contains the features to train on, and a y array with the target variable"
   ]
  },
  {
   "cell_type": "code",
   "execution_count": 9,
   "metadata": {
    "_uuid": "830591f99de9715241e688bf9ce265e979401ff5",
    "execution": {
     "iopub.execute_input": "2021-08-05T14:00:59.267857Z",
     "iopub.status.busy": "2021-08-05T14:00:59.266903Z",
     "iopub.status.idle": "2021-08-05T14:00:59.283871Z",
     "shell.execute_reply": "2021-08-05T14:00:59.284417Z"
    },
    "jupyter": {
     "source_hidden": true
    },
    "papermill": {
     "duration": 0.036164,
     "end_time": "2021-08-05T14:00:59.284713",
     "exception": false,
     "start_time": "2021-08-05T14:00:59.248549",
     "status": "completed"
    },
    "tags": []
   },
   "outputs": [],
   "source": [
    "X=df_final.iloc[:,1:14]\n",
    "y=df_final['AveragePrice']\n",
    "from sklearn.model_selection import train_test_split\n",
    "X_train,X_test,y_train,y_test=train_test_split(X,y,test_size=0.2,random_state=42)"
   ]
  },
  {
   "cell_type": "markdown",
   "metadata": {
    "_uuid": "ea730c77a31cde9de98263079a189accb8b5772b",
    "papermill": {
     "duration": 0.010253,
     "end_time": "2021-08-05T14:00:59.304349",
     "exception": false,
     "start_time": "2021-08-05T14:00:59.294096",
     "status": "completed"
    },
    "tags": []
   },
   "source": [
    "Creating and Training the Model"
   ]
  },
  {
   "cell_type": "code",
   "execution_count": 10,
   "metadata": {
    "_uuid": "eb37015e78974e5fd2ae7e13d065c8ab0a9c6948",
    "execution": {
     "iopub.execute_input": "2021-08-05T14:00:59.330131Z",
     "iopub.status.busy": "2021-08-05T14:00:59.329359Z",
     "iopub.status.idle": "2021-08-05T14:01:09.292055Z",
     "shell.execute_reply": "2021-08-05T14:01:09.292596Z"
    },
    "jupyter": {
     "source_hidden": true
    },
    "papermill": {
     "duration": 9.978974,
     "end_time": "2021-08-05T14:01:09.292970",
     "exception": false,
     "start_time": "2021-08-05T14:00:59.313996",
     "status": "completed"
    },
    "tags": []
   },
   "outputs": [],
   "source": [
    "from sklearn.ensemble import RandomForestRegressor\n",
    "rdr = RandomForestRegressor(\n",
    "    n_estimators=n_estimators,\n",
    "    max_features=max_features\n",
    ")\n",
    "rdr.fit(X_train,y_train)\n",
    "pred=rdr.predict(X_test)"
   ]
  },
  {
   "cell_type": "code",
   "execution_count": 11,
   "metadata": {
    "_uuid": "7ed5b8d4e8abb44a4b548c13ac9fb2d65227d1c5",
    "execution": {
     "iopub.execute_input": "2021-08-05T14:01:09.317086Z",
     "iopub.status.busy": "2021-08-05T14:01:09.316242Z",
     "iopub.status.idle": "2021-08-05T14:01:09.319549Z",
     "shell.execute_reply": "2021-08-05T14:01:09.320227Z"
    },
    "jupyter": {
     "source_hidden": true
    },
    "papermill": {
     "duration": 0.018388,
     "end_time": "2021-08-05T14:01:09.320563",
     "exception": false,
     "start_time": "2021-08-05T14:01:09.302175",
     "status": "completed"
    },
    "tags": []
   },
   "outputs": [],
   "source": [
    "#%%capture cap --no-stderr\n",
    "#print(np.sqrt(mean_squared_error(y_test, pred)))"
   ]
  },
  {
   "cell_type": "code",
   "execution_count": 12,
   "metadata": {
    "execution": {
     "iopub.execute_input": "2021-08-05T14:01:09.345489Z",
     "iopub.status.busy": "2021-08-05T14:01:09.344780Z",
     "iopub.status.idle": "2021-08-05T14:01:09.348417Z",
     "shell.execute_reply": "2021-08-05T14:01:09.347690Z"
    },
    "jupyter": {
     "source_hidden": true
    },
    "papermill": {
     "duration": 0.018801,
     "end_time": "2021-08-05T14:01:09.348754",
     "exception": false,
     "start_time": "2021-08-05T14:01:09.329953",
     "status": "completed"
    },
    "tags": []
   },
   "outputs": [],
   "source": [
    "#with open(output_rmse, 'w') as f:\n",
    "#    f.write(cap.stdout)"
   ]
  },
  {
   "cell_type": "code",
   "execution_count": 13,
   "metadata": {
    "execution": {
     "iopub.execute_input": "2021-08-05T14:01:09.375392Z",
     "iopub.status.busy": "2021-08-05T14:01:09.374435Z",
     "iopub.status.idle": "2021-08-05T14:01:09.420807Z",
     "shell.execute_reply": "2021-08-05T14:01:09.419363Z"
    },
    "jupyter": {
     "source_hidden": true
    },
    "papermill": {
     "duration": 0.062995,
     "end_time": "2021-08-05T14:01:09.421216",
     "exception": false,
     "start_time": "2021-08-05T14:01:09.358221",
     "status": "completed"
    },
    "tags": []
   },
   "outputs": [
    {
     "data": {
      "text/plain": [
       "<sqlalchemy.engine.result.ResultProxy at 0x7f3996df0110>"
      ]
     },
     "execution_count": 13,
     "metadata": {},
     "output_type": "execute_result"
    }
   ],
   "source": [
    "cnx.execute(\"\"\"\n",
    "    INSERT INTO ml.accuracies (ml_id, ml_date, accuracy) VALUES ('{0}', '{1}', {2}) \n",
    "    ON CONFLICT (ml_id, ml_date) \n",
    "    DO\n",
    "        UPDATE SET accuracy = {2};\n",
    "    \"\"\".format(ml_id, ml_date, np.sqrt(mean_squared_error(y_test, pred))))"
   ]
  }
 ],
 "metadata": {
  "kernelspec": {
   "display_name": "Python 3",
   "language": "python",
   "name": "python3"
  },
  "language_info": {
   "codemirror_mode": {
    "name": "ipython",
    "version": 3
   },
   "file_extension": ".py",
   "mimetype": "text/x-python",
   "name": "python",
   "nbconvert_exporter": "python",
   "pygments_lexer": "ipython3",
   "version": "3.7.10"
  },
  "papermill": {
   "duration": 15.522839,
   "end_time": "2021-08-05T14:01:10.780459",
   "environment_variables": {},
   "exception": null,
   "input_path": "/usr/local/airflow/include/notebooks/avocado_prediction.ipynb",
   "output_path": "/tmp/out-model-avocado-prediction-auto_100.ipynb",
   "parameters": {
    "filepath": "/tmp/avocado.csv",
    "max_features": "auto",
    "ml_id": "auto_100",
    "n_estimators": 100
   },
   "start_time": "2021-08-05T14:00:55.257620",
   "version": "2.1.2"
  }
 },
 "nbformat": 4,
 "nbformat_minor": 4
}