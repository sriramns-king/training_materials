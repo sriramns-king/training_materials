{
 "cells": [
  {
   "cell_type": "code",
   "execution_count": 1,
   "metadata": {
    "_cell_guid": "79c7e3d0-c299-4dcb-8224-4455121ee9b0",
    "_uuid": "d629ff2d2480ee46fbb7e2d37f6b5fab8052498a",
    "execution": {
     "iopub.execute_input": "2021-08-05T13:50:35.374852Z",
     "iopub.status.busy": "2021-08-05T13:50:35.374008Z",
     "iopub.status.idle": "2021-08-05T13:50:36.609126Z",
     "shell.execute_reply": "2021-08-05T13:50:36.607499Z"
    },
    "jupyter": {
     "source_hidden": true
    },
    "papermill": {
     "duration": 1.252298,
     "end_time": "2021-08-05T13:50:36.609413",
     "exception": false,
     "start_time": "2021-08-05T13:50:35.357115",
     "status": "completed"
    },
    "tags": []
   },
   "outputs": [],
   "source": [
    "import pandas as pd\n",
    "import numpy as np\n",
    "from sqlalchemy import create_engine\n",
    "from datetime import date\n",
    "from sklearn.metrics import mean_squared_error"
   ]
  },
  {
   "cell_type": "code",
   "execution_count": 2,
   "metadata": {
    "execution": {
     "iopub.execute_input": "2021-08-05T13:50:36.632693Z",
     "iopub.status.busy": "2021-08-05T13:50:36.631866Z",
     "iopub.status.idle": "2021-08-05T13:50:36.682023Z",
     "shell.execute_reply": "2021-08-05T13:50:36.681344Z"
    },
    "jupyter": {
     "source_hidden": true
    },
    "papermill": {
     "duration": 0.064801,
     "end_time": "2021-08-05T13:50:36.682273",
     "exception": false,
     "start_time": "2021-08-05T13:50:36.617472",
     "status": "completed"
    },
    "tags": []
   },
   "outputs": [],
   "source": [
    "# THIS IS PURELY FOR TEST PURPOSE NEVER DO THAT IN PRODUCTION\n",
    "POSTGRES_ADDRESS='postgres'\n",
    "POSTGRES_PORT='5432'\n",
    "POSTGRES_USERNAME='postgres'\n",
    "POSTGRES_PASSWORD='postgres'\n",
    "\n",
    "postgres_conn = 'postgresql://{0}:{1}@{2}:{3}/'.format(POSTGRES_USERNAME, POSTGRES_PASSWORD, POSTGRES_ADDRESS, POSTGRES_PORT)\n",
    "\n",
    "# Create the connection\n",
    "cnx = create_engine(postgres_conn)\n"
   ]
  },
  {
   "cell_type": "markdown",
   "metadata": {
    "_uuid": "1998755ef10683262b29765345cff1c1c7d10b15",
    "papermill": {
     "duration": 0.008736,
     "end_time": "2021-08-05T13:50:36.698894",
     "exception": false,
     "start_time": "2021-08-05T13:50:36.690158",
     "status": "completed"
    },
    "tags": []
   },
   "source": [
    "Read in the Avocado Prices csv file as a DataFrame called df"
   ]
  },
  {
   "cell_type": "code",
   "execution_count": 3,
   "metadata": {
    "execution": {
     "iopub.execute_input": "2021-08-05T13:50:36.721999Z",
     "iopub.status.busy": "2021-08-05T13:50:36.720062Z",
     "iopub.status.idle": "2021-08-05T13:50:36.723621Z",
     "shell.execute_reply": "2021-08-05T13:50:36.723080Z"
    },
    "jupyter": {
     "source_hidden": true
    },
    "papermill": {
     "duration": 0.017146,
     "end_time": "2021-08-05T13:50:36.723936",
     "exception": false,
     "start_time": "2021-08-05T13:50:36.706790",
     "status": "completed"
    },
    "tags": [
     "parameters"
    ]
   },
   "outputs": [],
   "source": [
    "# Parameterized\n",
    "\n",
    "filepath='avocado.csv'\n",
    "ml_id='auto_100'\n",
    "ml_date=date.today()\n",
    "n_estimators = 100\n",
    "max_features = 'auto'"
   ]
  },
  {
   "cell_type": "code",
   "execution_count": 4,
   "id": "604488ee",
   "metadata": {
    "execution": {
     "iopub.execute_input": "2021-08-05T13:50:36.745861Z",
     "iopub.status.busy": "2021-08-05T13:50:36.745042Z",
     "iopub.status.idle": "2021-08-05T13:50:36.748891Z",
     "shell.execute_reply": "2021-08-05T13:50:36.749437Z"
    },
    "jupyter": {
     "source_hidden": true
    },
    "papermill": {
     "duration": 0.017804,
     "end_time": "2021-08-05T13:50:36.749780",
     "exception": false,
     "start_time": "2021-08-05T13:50:36.731976",
     "status": "completed"
    },
    "tags": [
     "injected-parameters"
    ]
   },
   "outputs": [],
   "source": [
    "# Parameters\n",
    "filepath = \"/tmp/avocado.csv\"\n",
    "n_estimators = 150\n",
    "max_features = \"auto\"\n",
    "ml_id = \"auto_150\"\n"
   ]
  },
  {
   "cell_type": "code",
   "execution_count": 5,
   "metadata": {
    "_uuid": "55d0e719eb8b91d763c1eacaf0f51ee0586486fc",
    "execution": {
     "iopub.execute_input": "2021-08-05T13:50:36.773203Z",
     "iopub.status.busy": "2021-08-05T13:50:36.772368Z",
     "iopub.status.idle": "2021-08-05T13:50:36.815403Z",
     "shell.execute_reply": "2021-08-05T13:50:36.814515Z"
    },
    "jupyter": {
     "source_hidden": true
    },
    "papermill": {
     "duration": 0.056914,
     "end_time": "2021-08-05T13:50:36.815707",
     "exception": false,
     "start_time": "2021-08-05T13:50:36.758793",
     "status": "completed"
    },
    "tags": []
   },
   "outputs": [],
   "source": [
    "df= pd.read_csv(filepath)"
   ]
  },
  {
   "cell_type": "markdown",
   "metadata": {
    "_uuid": "434e0457f550e2200424e5ec26162e1aa5904005",
    "papermill": {
     "duration": 0.008144,
     "end_time": "2021-08-05T13:50:36.832345",
     "exception": false,
     "start_time": "2021-08-05T13:50:36.824201",
     "status": "completed"
    },
    "tags": []
   },
   "source": [
    "The Feature \"Unnamed:0\" is just a representation of the indexes, so it's useless to keep it, lets remove it !"
   ]
  },
  {
   "cell_type": "code",
   "execution_count": 6,
   "metadata": {
    "_uuid": "9875398e37728dc3141fed4228be337a4735beb6",
    "execution": {
     "iopub.execute_input": "2021-08-05T13:50:36.858989Z",
     "iopub.status.busy": "2021-08-05T13:50:36.858185Z",
     "iopub.status.idle": "2021-08-05T13:50:36.862133Z",
     "shell.execute_reply": "2021-08-05T13:50:36.861233Z"
    },
    "jupyter": {
     "source_hidden": true
    },
    "papermill": {
     "duration": 0.021757,
     "end_time": "2021-08-05T13:50:36.862382",
     "exception": false,
     "start_time": "2021-08-05T13:50:36.840625",
     "status": "completed"
    },
    "tags": []
   },
   "outputs": [],
   "source": [
    "df.drop('Unnamed: 0',axis=1,inplace=True)"
   ]
  },
  {
   "cell_type": "markdown",
   "metadata": {
    "_uuid": "12e94ad381e4cb8d2c8a9bbe08ce07ab5d49c040",
    "papermill": {
     "duration": 0.00835,
     "end_time": "2021-08-05T13:50:36.879353",
     "exception": false,
     "start_time": "2021-08-05T13:50:36.871003",
     "status": "completed"
    },
    "tags": []
   },
   "source": [
    "well as a first observation we can see that we are lucky, we dont have any missing values (18249 complete data) and 13 columns.\n",
    "Now let's do some Feature Engineering on the Date Feature so we can be able to use the day and the month columns in building our machine learning model later. ( I didn't mention the year because its already there in data frame)"
   ]
  },
  {
   "cell_type": "code",
   "execution_count": 7,
   "metadata": {
    "_uuid": "f031639ce794656e877484d1c9c356df7028177f",
    "execution": {
     "iopub.execute_input": "2021-08-05T13:50:37.041785Z",
     "iopub.status.busy": "2021-08-05T13:50:37.040855Z",
     "iopub.status.idle": "2021-08-05T13:50:37.214618Z",
     "shell.execute_reply": "2021-08-05T13:50:37.215200Z"
    },
    "jupyter": {
     "source_hidden": true
    },
    "papermill": {
     "duration": 0.191177,
     "end_time": "2021-08-05T13:50:37.215489",
     "exception": false,
     "start_time": "2021-08-05T13:50:37.024312",
     "status": "completed"
    },
    "tags": []
   },
   "outputs": [],
   "source": [
    "df['Date']=pd.to_datetime(df['Date'])\n",
    "df['Month']=df['Date'].apply(lambda x:x.month)\n",
    "df['Day']=df['Date'].apply(lambda x:x.day)"
   ]
  },
  {
   "cell_type": "markdown",
   "metadata": {
    "_uuid": "ebdcac9924ce3e366fd3a75170682f7113385b7a",
    "papermill": {
     "duration": 0.009639,
     "end_time": "2021-08-05T13:50:37.233849",
     "exception": false,
     "start_time": "2021-08-05T13:50:37.224210",
     "status": "completed"
    },
    "tags": []
   },
   "source": [
    "as we can see we have 54 regions and 2 unique types, so it's going to be easy to to transform the type feature to dummies, but for the region its going to be a bit complexe so I decided to drop the entire column.\n",
    "I will drop the Date Feature as well because I already have 3 other columns for the Year, Month and Day."
   ]
  },
  {
   "cell_type": "code",
   "execution_count": 8,
   "metadata": {
    "_uuid": "a798682da34327b731ef262985fd50ba68e06460",
    "execution": {
     "iopub.execute_input": "2021-08-05T13:50:37.257256Z",
     "iopub.status.busy": "2021-08-05T13:50:37.256451Z",
     "iopub.status.idle": "2021-08-05T13:50:37.274832Z",
     "shell.execute_reply": "2021-08-05T13:50:37.275359Z"
    },
    "jupyter": {
     "source_hidden": true
    },
    "papermill": {
     "duration": 0.032703,
     "end_time": "2021-08-05T13:50:37.275965",
     "exception": false,
     "start_time": "2021-08-05T13:50:37.243262",
     "status": "completed"
    },
    "tags": []
   },
   "outputs": [],
   "source": [
    "df_final=pd.get_dummies(df.drop(['region','Date'],axis=1),drop_first=True)"
   ]
  },
  {
   "cell_type": "markdown",
   "metadata": {
    "_uuid": "8b74a6b88cb3e9b3e1d1e987e061048f203c7364",
    "papermill": {
     "duration": 0.011035,
     "end_time": "2021-08-05T13:50:37.298162",
     "exception": false,
     "start_time": "2021-08-05T13:50:37.287127",
     "status": "completed"
    },
    "tags": []
   },
   "source": [
    "Now our data are ready! lets apply our model which is going to be the Linear Regression because our Target variable 'AveragePrice'is continuous.\n",
    "Let's now begin to train out regression model! We will need to first split up our data into an X array that contains the features to train on, and a y array with the target variable"
   ]
  },
  {
   "cell_type": "code",
   "execution_count": 9,
   "metadata": {
    "_uuid": "830591f99de9715241e688bf9ce265e979401ff5",
    "execution": {
     "iopub.execute_input": "2021-08-05T13:50:37.326724Z",
     "iopub.status.busy": "2021-08-05T13:50:37.324174Z",
     "iopub.status.idle": "2021-08-05T13:50:37.349739Z",
     "shell.execute_reply": "2021-08-05T13:50:37.349023Z"
    },
    "jupyter": {
     "source_hidden": true
    },
    "papermill": {
     "duration": 0.041092,
     "end_time": "2021-08-05T13:50:37.349996",
     "exception": false,
     "start_time": "2021-08-05T13:50:37.308904",
     "status": "completed"
    },
    "tags": []
   },
   "outputs": [],
   "source": [
    "X=df_final.iloc[:,1:14]\n",
    "y=df_final['AveragePrice']\n",
    "from sklearn.model_selection import train_test_split\n",
    "X_train,X_test,y_train,y_test=train_test_split(X,y,test_size=0.2,random_state=42)"
   ]
  },
  {
   "cell_type": "markdown",
   "metadata": {
    "_uuid": "ea730c77a31cde9de98263079a189accb8b5772b",
    "papermill": {
     "duration": 0.01035,
     "end_time": "2021-08-05T13:50:37.372093",
     "exception": false,
     "start_time": "2021-08-05T13:50:37.361743",
     "status": "completed"
    },
    "tags": []
   },
   "source": [
    "Creating and Training the Model"
   ]
  },
  {
   "cell_type": "code",
   "execution_count": 10,
   "metadata": {
    "_uuid": "eb37015e78974e5fd2ae7e13d065c8ab0a9c6948",
    "execution": {
     "iopub.execute_input": "2021-08-05T13:50:37.399481Z",
     "iopub.status.busy": "2021-08-05T13:50:37.398634Z",
     "iopub.status.idle": "2021-08-05T13:50:52.534041Z",
     "shell.execute_reply": "2021-08-05T13:50:52.534670Z"
    },
    "jupyter": {
     "source_hidden": true
    },
    "papermill": {
     "duration": 15.15192,
     "end_time": "2021-08-05T13:50:52.534964",
     "exception": false,
     "start_time": "2021-08-05T13:50:37.383044",
     "status": "completed"
    },
    "tags": []
   },
   "outputs": [],
   "source": [
    "from sklearn.ensemble import RandomForestRegressor\n",
    "rdr = RandomForestRegressor(\n",
    "    n_estimators=n_estimators,\n",
    "    max_features=max_features\n",
    ")\n",
    "rdr.fit(X_train,y_train)\n",
    "pred=rdr.predict(X_test)"
   ]
  },
  {
   "cell_type": "code",
   "execution_count": 11,
   "metadata": {
    "_uuid": "7ed5b8d4e8abb44a4b548c13ac9fb2d65227d1c5",
    "execution": {
     "iopub.execute_input": "2021-08-05T13:50:52.557850Z",
     "iopub.status.busy": "2021-08-05T13:50:52.556921Z",
     "iopub.status.idle": "2021-08-05T13:50:52.560669Z",
     "shell.execute_reply": "2021-08-05T13:50:52.560001Z"
    },
    "jupyter": {
     "source_hidden": true
    },
    "papermill": {
     "duration": 0.017114,
     "end_time": "2021-08-05T13:50:52.560913",
     "exception": false,
     "start_time": "2021-08-05T13:50:52.543799",
     "status": "completed"
    },
    "tags": []
   },
   "outputs": [],
   "source": [
    "#%%capture cap --no-stderr\n",
    "#print(np.sqrt(mean_squared_error(y_test, pred)))"
   ]
  },
  {
   "cell_type": "code",
   "execution_count": 12,
   "metadata": {
    "execution": {
     "iopub.execute_input": "2021-08-05T13:50:52.583708Z",
     "iopub.status.busy": "2021-08-05T13:50:52.582742Z",
     "iopub.status.idle": "2021-08-05T13:50:52.586932Z",
     "shell.execute_reply": "2021-08-05T13:50:52.586335Z"
    },
    "jupyter": {
     "source_hidden": true
    },
    "papermill": {
     "duration": 0.017076,
     "end_time": "2021-08-05T13:50:52.587176",
     "exception": false,
     "start_time": "2021-08-05T13:50:52.570100",
     "status": "completed"
    },
    "tags": []
   },
   "outputs": [],
   "source": [
    "#with open(output_rmse, 'w') as f:\n",
    "#    f.write(cap.stdout)"
   ]
  },
  {
   "cell_type": "code",
   "execution_count": 13,
   "metadata": {
    "execution": {
     "iopub.execute_input": "2021-08-05T13:50:52.613008Z",
     "iopub.status.busy": "2021-08-05T13:50:52.612084Z",
     "iopub.status.idle": "2021-08-05T13:50:52.655110Z",
     "shell.execute_reply": "2021-08-05T13:50:52.654022Z"
    },
    "jupyter": {
     "source_hidden": true
    },
    "papermill": {
     "duration": 0.05944,
     "end_time": "2021-08-05T13:50:52.655508",
     "exception": false,
     "start_time": "2021-08-05T13:50:52.596068",
     "status": "completed"
    },
    "tags": []
   },
   "outputs": [
    {
     "data": {
      "text/plain": [
       "<sqlalchemy.engine.result.ResultProxy at 0x7f2db031bb10>"
      ]
     },
     "execution_count": 13,
     "metadata": {},
     "output_type": "execute_result"
    }
   ],
   "source": [
    "cnx.execute(\"\"\"\n",
    "    INSERT INTO ml.accuracies (ml_id, ml_date, accuracy) VALUES ('{0}', '{1}', {2}) \n",
    "    ON CONFLICT (ml_id, ml_date) \n",
    "    DO\n",
    "        UPDATE SET accuracy = {2};\n",
    "    \"\"\".format(ml_id, ml_date, np.sqrt(mean_squared_error(y_test, pred))))"
   ]
  }
 ],
 "metadata": {
  "kernelspec": {
   "display_name": "Python 3",
   "language": "python",
   "name": "python3"
  },
  "language_info": {
   "codemirror_mode": {
    "name": "ipython",
    "version": 3
   },
   "file_extension": ".py",
   "mimetype": "text/x-python",
   "name": "python",
   "nbconvert_exporter": "python",
   "pygments_lexer": "ipython3",
   "version": "3.7.10"
  },
  "papermill": {
   "duration": 20.60218,
   "end_time": "2021-08-05T13:50:54.063301",
   "environment_variables": {},
   "exception": null,
   "input_path": "/usr/local/airflow/include/notebooks/avocado_prediction.ipynb",
   "output_path": "/tmp/out-model-avocado-prediction-auto_150.ipynb",
   "parameters": {
    "filepath": "/tmp/avocado.csv",
    "max_features": "auto",
    "ml_id": "auto_150",
    "n_estimators": 150
   },
   "start_time": "2021-08-05T13:50:33.461121",
   "version": "2.1.2"
  }
 },
 "nbformat": 4,
 "nbformat_minor": 4
}