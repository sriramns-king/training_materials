{
 "cells": [
  {
   "cell_type": "code",
   "execution_count": 1,
   "metadata": {
    "_cell_guid": "79c7e3d0-c299-4dcb-8224-4455121ee9b0",
    "_uuid": "d629ff2d2480ee46fbb7e2d37f6b5fab8052498a",
    "execution": {
     "iopub.execute_input": "2021-08-05T13:30:35.640906Z",
     "iopub.status.busy": "2021-08-05T13:30:35.640011Z",
     "iopub.status.idle": "2021-08-05T13:30:36.688889Z",
     "shell.execute_reply": "2021-08-05T13:30:36.689487Z"
    },
    "jupyter": {
     "source_hidden": true
    },
    "papermill": {
     "duration": 1.064855,
     "end_time": "2021-08-05T13:30:36.690036",
     "exception": false,
     "start_time": "2021-08-05T13:30:35.625181",
     "status": "completed"
    },
    "tags": []
   },
   "outputs": [],
   "source": [
    "import pandas as pd\n",
    "import numpy as np\n",
    "from sqlalchemy import create_engine\n",
    "from datetime import date\n",
    "from sklearn.metrics import mean_squared_error"
   ]
  },
  {
   "cell_type": "code",
   "execution_count": 2,
   "metadata": {
    "execution": {
     "iopub.execute_input": "2021-08-05T13:30:36.714822Z",
     "iopub.status.busy": "2021-08-05T13:30:36.713903Z",
     "iopub.status.idle": "2021-08-05T13:30:36.754491Z",
     "shell.execute_reply": "2021-08-05T13:30:36.753628Z"
    },
    "jupyter": {
     "source_hidden": true
    },
    "papermill": {
     "duration": 0.056253,
     "end_time": "2021-08-05T13:30:36.754838",
     "exception": false,
     "start_time": "2021-08-05T13:30:36.698585",
     "status": "completed"
    },
    "tags": []
   },
   "outputs": [],
   "source": [
    "# THIS IS PURELY FOR TEST PURPOSE NEVER DO THAT IN PRODUCTION\n",
    "POSTGRES_ADDRESS='postgres'\n",
    "POSTGRES_PORT='5432'\n",
    "POSTGRES_USERNAME='postgres'\n",
    "POSTGRES_PASSWORD='postgres'\n",
    "\n",
    "postgres_conn = 'postgresql://{0}:{1}@{2}:{3}/'.format(POSTGRES_USERNAME, POSTGRES_PASSWORD, POSTGRES_ADDRESS, POSTGRES_PORT)\n",
    "\n",
    "# Create the connection\n",
    "cnx = create_engine(postgres_conn)\n"
   ]
  },
  {
   "cell_type": "markdown",
   "metadata": {
    "_uuid": "1998755ef10683262b29765345cff1c1c7d10b15",
    "papermill": {
     "duration": 0.007799,
     "end_time": "2021-08-05T13:30:36.770558",
     "exception": false,
     "start_time": "2021-08-05T13:30:36.762759",
     "status": "completed"
    },
    "tags": []
   },
   "source": [
    "Read in the Avocado Prices csv file as a DataFrame called df"
   ]
  },
  {
   "cell_type": "code",
   "execution_count": 3,
   "metadata": {
    "execution": {
     "iopub.execute_input": "2021-08-05T13:30:36.792772Z",
     "iopub.status.busy": "2021-08-05T13:30:36.791834Z",
     "iopub.status.idle": "2021-08-05T13:30:36.798357Z",
     "shell.execute_reply": "2021-08-05T13:30:36.796823Z"
    },
    "jupyter": {
     "source_hidden": true
    },
    "papermill": {
     "duration": 0.020254,
     "end_time": "2021-08-05T13:30:36.798870",
     "exception": false,
     "start_time": "2021-08-05T13:30:36.778616",
     "status": "completed"
    },
    "tags": [
     "parameters"
    ]
   },
   "outputs": [],
   "source": [
    "# Parameterized\n",
    "\n",
    "filepath='avocado.csv'\n",
    "ml_id='auto_100'\n",
    "ml_date=date.today()\n",
    "n_estimators = 100\n",
    "max_features = 'auto'"
   ]
  },
  {
   "cell_type": "code",
   "execution_count": 4,
   "id": "7425e9cc",
   "metadata": {
    "execution": {
     "iopub.execute_input": "2021-08-05T13:30:36.823935Z",
     "iopub.status.busy": "2021-08-05T13:30:36.823056Z",
     "iopub.status.idle": "2021-08-05T13:30:36.827817Z",
     "shell.execute_reply": "2021-08-05T13:30:36.826948Z"
    },
    "jupyter": {
     "source_hidden": true
    },
    "papermill": {
     "duration": 0.01855,
     "end_time": "2021-08-05T13:30:36.828054",
     "exception": false,
     "start_time": "2021-08-05T13:30:36.809504",
     "status": "completed"
    },
    "tags": [
     "injected-parameters"
    ]
   },
   "outputs": [],
   "source": [
    "# Parameters\n",
    "filepath = \"/tmp/avocado.csv\"\n",
    "n_estimators = 150\n",
    "max_features = \"auto\"\n",
    "ml_id = \"auto_150\"\n"
   ]
  },
  {
   "cell_type": "code",
   "execution_count": 5,
   "metadata": {
    "_uuid": "55d0e719eb8b91d763c1eacaf0f51ee0586486fc",
    "execution": {
     "iopub.execute_input": "2021-08-05T13:30:36.851676Z",
     "iopub.status.busy": "2021-08-05T13:30:36.850431Z",
     "iopub.status.idle": "2021-08-05T13:30:36.923596Z",
     "shell.execute_reply": "2021-08-05T13:30:36.922943Z"
    },
    "jupyter": {
     "source_hidden": true
    },
    "papermill": {
     "duration": 0.08727,
     "end_time": "2021-08-05T13:30:36.923854",
     "exception": false,
     "start_time": "2021-08-05T13:30:36.836584",
     "status": "completed"
    },
    "tags": []
   },
   "outputs": [],
   "source": [
    "df= pd.read_csv(filepath)"
   ]
  },
  {
   "cell_type": "markdown",
   "metadata": {
    "_uuid": "434e0457f550e2200424e5ec26162e1aa5904005",
    "papermill": {
     "duration": 0.017128,
     "end_time": "2021-08-05T13:30:36.950091",
     "exception": false,
     "start_time": "2021-08-05T13:30:36.932963",
     "status": "completed"
    },
    "tags": []
   },
   "source": [
    "The Feature \"Unnamed:0\" is just a representation of the indexes, so it's useless to keep it, lets remove it !"
   ]
  },
  {
   "cell_type": "code",
   "execution_count": 6,
   "metadata": {
    "_uuid": "9875398e37728dc3141fed4228be337a4735beb6",
    "execution": {
     "iopub.execute_input": "2021-08-05T13:30:36.994644Z",
     "iopub.status.busy": "2021-08-05T13:30:36.993835Z",
     "iopub.status.idle": "2021-08-05T13:30:36.998233Z",
     "shell.execute_reply": "2021-08-05T13:30:36.997495Z"
    },
    "jupyter": {
     "source_hidden": true
    },
    "papermill": {
     "duration": 0.025764,
     "end_time": "2021-08-05T13:30:36.998468",
     "exception": false,
     "start_time": "2021-08-05T13:30:36.972704",
     "status": "completed"
    },
    "tags": []
   },
   "outputs": [],
   "source": [
    "df.drop('Unnamed: 0',axis=1,inplace=True)"
   ]
  },
  {
   "cell_type": "markdown",
   "metadata": {
    "_uuid": "12e94ad381e4cb8d2c8a9bbe08ce07ab5d49c040",
    "papermill": {
     "duration": 0.008613,
     "end_time": "2021-08-05T13:30:37.015485",
     "exception": false,
     "start_time": "2021-08-05T13:30:37.006872",
     "status": "completed"
    },
    "tags": []
   },
   "source": [
    "well as a first observation we can see that we are lucky, we dont have any missing values (18249 complete data) and 13 columns.\n",
    "Now let's do some Feature Engineering on the Date Feature so we can be able to use the day and the month columns in building our machine learning model later. ( I didn't mention the year because its already there in data frame)"
   ]
  },
  {
   "cell_type": "code",
   "execution_count": 7,
   "metadata": {
    "_uuid": "f031639ce794656e877484d1c9c356df7028177f",
    "execution": {
     "iopub.execute_input": "2021-08-05T13:30:37.168277Z",
     "iopub.status.busy": "2021-08-05T13:30:37.167467Z",
     "iopub.status.idle": "2021-08-05T13:30:37.332173Z",
     "shell.execute_reply": "2021-08-05T13:30:37.332800Z"
    },
    "jupyter": {
     "source_hidden": true
    },
    "papermill": {
     "duration": 0.181228,
     "end_time": "2021-08-05T13:30:37.333078",
     "exception": false,
     "start_time": "2021-08-05T13:30:37.151850",
     "status": "completed"
    },
    "tags": []
   },
   "outputs": [],
   "source": [
    "df['Date']=pd.to_datetime(df['Date'])\n",
    "df['Month']=df['Date'].apply(lambda x:x.month)\n",
    "df['Day']=df['Date'].apply(lambda x:x.day)"
   ]
  },
  {
   "cell_type": "markdown",
   "metadata": {
    "_uuid": "ebdcac9924ce3e366fd3a75170682f7113385b7a",
    "papermill": {
     "duration": 0.008375,
     "end_time": "2021-08-05T13:30:37.350145",
     "exception": false,
     "start_time": "2021-08-05T13:30:37.341770",
     "status": "completed"
    },
    "tags": []
   },
   "source": [
    "as we can see we have 54 regions and 2 unique types, so it's going to be easy to to transform the type feature to dummies, but for the region its going to be a bit complexe so I decided to drop the entire column.\n",
    "I will drop the Date Feature as well because I already have 3 other columns for the Year, Month and Day."
   ]
  },
  {
   "cell_type": "code",
   "execution_count": 8,
   "metadata": {
    "_uuid": "a798682da34327b731ef262985fd50ba68e06460",
    "execution": {
     "iopub.execute_input": "2021-08-05T13:30:37.370736Z",
     "iopub.status.busy": "2021-08-05T13:30:37.369934Z",
     "iopub.status.idle": "2021-08-05T13:30:37.386242Z",
     "shell.execute_reply": "2021-08-05T13:30:37.386825Z"
    },
    "jupyter": {
     "source_hidden": true
    },
    "papermill": {
     "duration": 0.02881,
     "end_time": "2021-08-05T13:30:37.387112",
     "exception": false,
     "start_time": "2021-08-05T13:30:37.358302",
     "status": "completed"
    },
    "tags": []
   },
   "outputs": [],
   "source": [
    "df_final=pd.get_dummies(df.drop(['region','Date'],axis=1),drop_first=True)"
   ]
  },
  {
   "cell_type": "markdown",
   "metadata": {
    "_uuid": "8b74a6b88cb3e9b3e1d1e987e061048f203c7364",
    "papermill": {
     "duration": 0.008158,
     "end_time": "2021-08-05T13:30:37.404255",
     "exception": false,
     "start_time": "2021-08-05T13:30:37.396097",
     "status": "completed"
    },
    "tags": []
   },
   "source": [
    "Now our data are ready! lets apply our model which is going to be the Linear Regression because our Target variable 'AveragePrice'is continuous.\n",
    "Let's now begin to train out regression model! We will need to first split up our data into an X array that contains the features to train on, and a y array with the target variable"
   ]
  },
  {
   "cell_type": "code",
   "execution_count": 9,
   "metadata": {
    "_uuid": "830591f99de9715241e688bf9ce265e979401ff5",
    "execution": {
     "iopub.execute_input": "2021-08-05T13:30:37.428654Z",
     "iopub.status.busy": "2021-08-05T13:30:37.427702Z",
     "iopub.status.idle": "2021-08-05T13:30:37.448489Z",
     "shell.execute_reply": "2021-08-05T13:30:37.447844Z"
    },
    "jupyter": {
     "source_hidden": true
    },
    "papermill": {
     "duration": 0.036321,
     "end_time": "2021-08-05T13:30:37.448759",
     "exception": false,
     "start_time": "2021-08-05T13:30:37.412438",
     "status": "completed"
    },
    "tags": []
   },
   "outputs": [],
   "source": [
    "X=df_final.iloc[:,1:14]\n",
    "y=df_final['AveragePrice']\n",
    "from sklearn.model_selection import train_test_split\n",
    "X_train,X_test,y_train,y_test=train_test_split(X,y,test_size=0.2,random_state=42)"
   ]
  },
  {
   "cell_type": "markdown",
   "metadata": {
    "_uuid": "ea730c77a31cde9de98263079a189accb8b5772b",
    "papermill": {
     "duration": 0.008818,
     "end_time": "2021-08-05T13:30:37.466292",
     "exception": false,
     "start_time": "2021-08-05T13:30:37.457474",
     "status": "completed"
    },
    "tags": []
   },
   "source": [
    "Creating and Training the Model"
   ]
  },
  {
   "cell_type": "code",
   "execution_count": 10,
   "metadata": {
    "_uuid": "eb37015e78974e5fd2ae7e13d065c8ab0a9c6948",
    "execution": {
     "iopub.execute_input": "2021-08-05T13:30:37.489213Z",
     "iopub.status.busy": "2021-08-05T13:30:37.487191Z",
     "iopub.status.idle": "2021-08-05T13:30:51.681643Z",
     "shell.execute_reply": "2021-08-05T13:30:51.680923Z"
    },
    "jupyter": {
     "source_hidden": true
    },
    "papermill": {
     "duration": 14.206523,
     "end_time": "2021-08-05T13:30:51.681885",
     "exception": false,
     "start_time": "2021-08-05T13:30:37.475362",
     "status": "completed"
    },
    "tags": []
   },
   "outputs": [],
   "source": [
    "from sklearn.ensemble import RandomForestRegressor\n",
    "rdr = RandomForestRegressor(\n",
    "    n_estimators=n_estimators,\n",
    "    max_features=max_features\n",
    ")\n",
    "rdr.fit(X_train,y_train)\n",
    "pred=rdr.predict(X_test)"
   ]
  },
  {
   "cell_type": "code",
   "execution_count": 11,
   "metadata": {
    "_uuid": "7ed5b8d4e8abb44a4b548c13ac9fb2d65227d1c5",
    "execution": {
     "iopub.execute_input": "2021-08-05T13:30:51.706646Z",
     "iopub.status.busy": "2021-08-05T13:30:51.704784Z",
     "iopub.status.idle": "2021-08-05T13:30:51.707511Z",
     "shell.execute_reply": "2021-08-05T13:30:51.708046Z"
    },
    "jupyter": {
     "source_hidden": true
    },
    "papermill": {
     "duration": 0.01744,
     "end_time": "2021-08-05T13:30:51.708401",
     "exception": false,
     "start_time": "2021-08-05T13:30:51.690961",
     "status": "completed"
    },
    "tags": []
   },
   "outputs": [],
   "source": [
    "#%%capture cap --no-stderr\n",
    "#print(np.sqrt(mean_squared_error(y_test, pred)))"
   ]
  },
  {
   "cell_type": "code",
   "execution_count": 12,
   "metadata": {
    "execution": {
     "iopub.execute_input": "2021-08-05T13:30:51.730216Z",
     "iopub.status.busy": "2021-08-05T13:30:51.729426Z",
     "iopub.status.idle": "2021-08-05T13:30:51.733451Z",
     "shell.execute_reply": "2021-08-05T13:30:51.733944Z"
    },
    "jupyter": {
     "source_hidden": true
    },
    "papermill": {
     "duration": 0.017192,
     "end_time": "2021-08-05T13:30:51.734219",
     "exception": false,
     "start_time": "2021-08-05T13:30:51.717027",
     "status": "completed"
    },
    "tags": []
   },
   "outputs": [],
   "source": [
    "#with open(output_rmse, 'w') as f:\n",
    "#    f.write(cap.stdout)"
   ]
  },
  {
   "cell_type": "code",
   "execution_count": 13,
   "metadata": {
    "execution": {
     "iopub.execute_input": "2021-08-05T13:30:51.758586Z",
     "iopub.status.busy": "2021-08-05T13:30:51.757171Z",
     "iopub.status.idle": "2021-08-05T13:30:51.804605Z",
     "shell.execute_reply": "2021-08-05T13:30:51.803754Z"
    },
    "jupyter": {
     "source_hidden": true
    },
    "papermill": {
     "duration": 0.061832,
     "end_time": "2021-08-05T13:30:51.804839",
     "exception": false,
     "start_time": "2021-08-05T13:30:51.743007",
     "status": "completed"
    },
    "tags": []
   },
   "outputs": [
    {
     "data": {
      "text/plain": [
       "<sqlalchemy.engine.result.ResultProxy at 0x7f63343dd550>"
      ]
     },
     "execution_count": 13,
     "metadata": {},
     "output_type": "execute_result"
    }
   ],
   "source": [
    "cnx.execute(\"\"\"\n",
    "    INSERT INTO ml.accuracies (ml_id, ml_date, accuracy) VALUES ('{0}', '{1}', {2}) \n",
    "    ON CONFLICT (ml_id, ml_date) \n",
    "    DO\n",
    "        UPDATE SET accuracy = {2};\n",
    "    \"\"\".format(ml_id, ml_date, np.sqrt(mean_squared_error(y_test, pred))))"
   ]
  }
 ],
 "metadata": {
  "kernelspec": {
   "display_name": "Python 3",
   "language": "python",
   "name": "python3"
  },
  "language_info": {
   "codemirror_mode": {
    "name": "ipython",
    "version": 3
   },
   "file_extension": ".py",
   "mimetype": "text/x-python",
   "name": "python",
   "nbconvert_exporter": "python",
   "pygments_lexer": "ipython3",
   "version": "3.7.10"
  },
  "papermill": {
   "duration": 18.181654,
   "end_time": "2021-08-05T13:30:52.235667",
   "environment_variables": {},
   "exception": null,
   "input_path": "/usr/local/airflow/include/notebooks/avocado_prediction.ipynb",
   "output_path": "/tmp/out-model-avocado-prediction-auto_150.ipynb",
   "parameters": {
    "filepath": "/tmp/avocado.csv",
    "max_features": "auto",
    "ml_id": "auto_150",
    "n_estimators": 150
   },
   "start_time": "2021-08-05T13:30:34.054013",
   "version": "2.1.2"
  }
 },
 "nbformat": 4,
 "nbformat_minor": 4
}