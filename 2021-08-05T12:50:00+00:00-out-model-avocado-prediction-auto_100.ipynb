{
 "cells": [
  {
   "cell_type": "code",
   "execution_count": 1,
   "metadata": {
    "_cell_guid": "79c7e3d0-c299-4dcb-8224-4455121ee9b0",
    "_uuid": "d629ff2d2480ee46fbb7e2d37f6b5fab8052498a",
    "execution": {
     "iopub.execute_input": "2021-08-05T13:30:55.495514Z",
     "iopub.status.busy": "2021-08-05T13:30:55.494663Z",
     "iopub.status.idle": "2021-08-05T13:30:56.647589Z",
     "shell.execute_reply": "2021-08-05T13:30:56.648098Z"
    },
    "jupyter": {
     "source_hidden": true
    },
    "papermill": {
     "duration": 1.173089,
     "end_time": "2021-08-05T13:30:56.648634",
     "exception": false,
     "start_time": "2021-08-05T13:30:55.475545",
     "status": "completed"
    },
    "tags": []
   },
   "outputs": [],
   "source": [
    "import pandas as pd\n",
    "import numpy as np\n",
    "from sqlalchemy import create_engine\n",
    "from datetime import date\n",
    "from sklearn.metrics import mean_squared_error"
   ]
  },
  {
   "cell_type": "code",
   "execution_count": 2,
   "metadata": {
    "execution": {
     "iopub.execute_input": "2021-08-05T13:30:56.668333Z",
     "iopub.status.busy": "2021-08-05T13:30:56.667551Z",
     "iopub.status.idle": "2021-08-05T13:30:56.719238Z",
     "shell.execute_reply": "2021-08-05T13:30:56.719826Z"
    },
    "jupyter": {
     "source_hidden": true
    },
    "papermill": {
     "duration": 0.063453,
     "end_time": "2021-08-05T13:30:56.720186",
     "exception": false,
     "start_time": "2021-08-05T13:30:56.656733",
     "status": "completed"
    },
    "tags": []
   },
   "outputs": [],
   "source": [
    "# THIS IS PURELY FOR TEST PURPOSE NEVER DO THAT IN PRODUCTION\n",
    "POSTGRES_ADDRESS='postgres'\n",
    "POSTGRES_PORT='5432'\n",
    "POSTGRES_USERNAME='postgres'\n",
    "POSTGRES_PASSWORD='postgres'\n",
    "\n",
    "postgres_conn = 'postgresql://{0}:{1}@{2}:{3}/'.format(POSTGRES_USERNAME, POSTGRES_PASSWORD, POSTGRES_ADDRESS, POSTGRES_PORT)\n",
    "\n",
    "# Create the connection\n",
    "cnx = create_engine(postgres_conn)\n"
   ]
  },
  {
   "cell_type": "markdown",
   "metadata": {
    "_uuid": "1998755ef10683262b29765345cff1c1c7d10b15",
    "papermill": {
     "duration": 0.007823,
     "end_time": "2021-08-05T13:30:56.735717",
     "exception": false,
     "start_time": "2021-08-05T13:30:56.727894",
     "status": "completed"
    },
    "tags": []
   },
   "source": [
    "Read in the Avocado Prices csv file as a DataFrame called df"
   ]
  },
  {
   "cell_type": "code",
   "execution_count": 3,
   "metadata": {
    "execution": {
     "iopub.execute_input": "2021-08-05T13:30:56.754882Z",
     "iopub.status.busy": "2021-08-05T13:30:56.754187Z",
     "iopub.status.idle": "2021-08-05T13:30:56.759505Z",
     "shell.execute_reply": "2021-08-05T13:30:56.759991Z"
    },
    "jupyter": {
     "source_hidden": true
    },
    "papermill": {
     "duration": 0.016875,
     "end_time": "2021-08-05T13:30:56.760420",
     "exception": false,
     "start_time": "2021-08-05T13:30:56.743545",
     "status": "completed"
    },
    "tags": [
     "parameters"
    ]
   },
   "outputs": [],
   "source": [
    "# Parameterized\n",
    "\n",
    "filepath='avocado.csv'\n",
    "ml_id='auto_100'\n",
    "ml_date=date.today()\n",
    "n_estimators = 100\n",
    "max_features = 'auto'"
   ]
  },
  {
   "cell_type": "code",
   "execution_count": 4,
   "id": "e9b17e20",
   "metadata": {
    "execution": {
     "iopub.execute_input": "2021-08-05T13:30:56.780368Z",
     "iopub.status.busy": "2021-08-05T13:30:56.779544Z",
     "iopub.status.idle": "2021-08-05T13:30:56.784562Z",
     "shell.execute_reply": "2021-08-05T13:30:56.785093Z"
    },
    "jupyter": {
     "source_hidden": true
    },
    "papermill": {
     "duration": 0.016943,
     "end_time": "2021-08-05T13:30:56.785463",
     "exception": false,
     "start_time": "2021-08-05T13:30:56.768520",
     "status": "completed"
    },
    "tags": [
     "injected-parameters"
    ]
   },
   "outputs": [],
   "source": [
    "# Parameters\n",
    "filepath = \"/tmp/avocado.csv\"\n",
    "n_estimators = 100\n",
    "max_features = \"auto\"\n",
    "ml_id = \"auto_100\"\n"
   ]
  },
  {
   "cell_type": "code",
   "execution_count": 5,
   "metadata": {
    "_uuid": "55d0e719eb8b91d763c1eacaf0f51ee0586486fc",
    "execution": {
     "iopub.execute_input": "2021-08-05T13:30:56.805739Z",
     "iopub.status.busy": "2021-08-05T13:30:56.804929Z",
     "iopub.status.idle": "2021-08-05T13:30:56.849829Z",
     "shell.execute_reply": "2021-08-05T13:30:56.851031Z"
    },
    "jupyter": {
     "source_hidden": true
    },
    "papermill": {
     "duration": 0.057806,
     "end_time": "2021-08-05T13:30:56.851716",
     "exception": false,
     "start_time": "2021-08-05T13:30:56.793910",
     "status": "completed"
    },
    "tags": []
   },
   "outputs": [],
   "source": [
    "df= pd.read_csv(filepath)"
   ]
  },
  {
   "cell_type": "markdown",
   "metadata": {
    "_uuid": "434e0457f550e2200424e5ec26162e1aa5904005",
    "papermill": {
     "duration": 0.00852,
     "end_time": "2021-08-05T13:30:56.870851",
     "exception": false,
     "start_time": "2021-08-05T13:30:56.862331",
     "status": "completed"
    },
    "tags": []
   },
   "source": [
    "The Feature \"Unnamed:0\" is just a representation of the indexes, so it's useless to keep it, lets remove it !"
   ]
  },
  {
   "cell_type": "code",
   "execution_count": 6,
   "metadata": {
    "_uuid": "9875398e37728dc3141fed4228be337a4735beb6",
    "execution": {
     "iopub.execute_input": "2021-08-05T13:30:56.896742Z",
     "iopub.status.busy": "2021-08-05T13:30:56.895880Z",
     "iopub.status.idle": "2021-08-05T13:30:56.899544Z",
     "shell.execute_reply": "2021-08-05T13:30:56.898842Z"
    },
    "jupyter": {
     "source_hidden": true
    },
    "papermill": {
     "duration": 0.020869,
     "end_time": "2021-08-05T13:30:56.899802",
     "exception": false,
     "start_time": "2021-08-05T13:30:56.878933",
     "status": "completed"
    },
    "tags": []
   },
   "outputs": [],
   "source": [
    "df.drop('Unnamed: 0',axis=1,inplace=True)"
   ]
  },
  {
   "cell_type": "markdown",
   "metadata": {
    "_uuid": "12e94ad381e4cb8d2c8a9bbe08ce07ab5d49c040",
    "papermill": {
     "duration": 0.008253,
     "end_time": "2021-08-05T13:30:56.916587",
     "exception": false,
     "start_time": "2021-08-05T13:30:56.908334",
     "status": "completed"
    },
    "tags": []
   },
   "source": [
    "well as a first observation we can see that we are lucky, we dont have any missing values (18249 complete data) and 13 columns.\n",
    "Now let's do some Feature Engineering on the Date Feature so we can be able to use the day and the month columns in building our machine learning model later. ( I didn't mention the year because its already there in data frame)"
   ]
  },
  {
   "cell_type": "code",
   "execution_count": 7,
   "metadata": {
    "_uuid": "f031639ce794656e877484d1c9c356df7028177f",
    "execution": {
     "iopub.execute_input": "2021-08-05T13:30:57.070030Z",
     "iopub.status.busy": "2021-08-05T13:30:57.068503Z",
     "iopub.status.idle": "2021-08-05T13:30:57.230997Z",
     "shell.execute_reply": "2021-08-05T13:30:57.230069Z"
    },
    "jupyter": {
     "source_hidden": true
    },
    "papermill": {
     "duration": 0.178321,
     "end_time": "2021-08-05T13:30:57.231335",
     "exception": false,
     "start_time": "2021-08-05T13:30:57.053014",
     "status": "completed"
    },
    "tags": []
   },
   "outputs": [],
   "source": [
    "df['Date']=pd.to_datetime(df['Date'])\n",
    "df['Month']=df['Date'].apply(lambda x:x.month)\n",
    "df['Day']=df['Date'].apply(lambda x:x.day)"
   ]
  },
  {
   "cell_type": "markdown",
   "metadata": {
    "_uuid": "ebdcac9924ce3e366fd3a75170682f7113385b7a",
    "papermill": {
     "duration": 0.008626,
     "end_time": "2021-08-05T13:30:57.248520",
     "exception": false,
     "start_time": "2021-08-05T13:30:57.239894",
     "status": "completed"
    },
    "tags": []
   },
   "source": [
    "as we can see we have 54 regions and 2 unique types, so it's going to be easy to to transform the type feature to dummies, but for the region its going to be a bit complexe so I decided to drop the entire column.\n",
    "I will drop the Date Feature as well because I already have 3 other columns for the Year, Month and Day."
   ]
  },
  {
   "cell_type": "code",
   "execution_count": 8,
   "metadata": {
    "_uuid": "a798682da34327b731ef262985fd50ba68e06460",
    "execution": {
     "iopub.execute_input": "2021-08-05T13:30:57.272718Z",
     "iopub.status.busy": "2021-08-05T13:30:57.271613Z",
     "iopub.status.idle": "2021-08-05T13:30:57.285918Z",
     "shell.execute_reply": "2021-08-05T13:30:57.285079Z"
    },
    "jupyter": {
     "source_hidden": true
    },
    "papermill": {
     "duration": 0.029326,
     "end_time": "2021-08-05T13:30:57.286266",
     "exception": false,
     "start_time": "2021-08-05T13:30:57.256940",
     "status": "completed"
    },
    "tags": []
   },
   "outputs": [],
   "source": [
    "df_final=pd.get_dummies(df.drop(['region','Date'],axis=1),drop_first=True)"
   ]
  },
  {
   "cell_type": "markdown",
   "metadata": {
    "_uuid": "8b74a6b88cb3e9b3e1d1e987e061048f203c7364",
    "papermill": {
     "duration": 0.008582,
     "end_time": "2021-08-05T13:30:57.303641",
     "exception": false,
     "start_time": "2021-08-05T13:30:57.295059",
     "status": "completed"
    },
    "tags": []
   },
   "source": [
    "Now our data are ready! lets apply our model which is going to be the Linear Regression because our Target variable 'AveragePrice'is continuous.\n",
    "Let's now begin to train out regression model! We will need to first split up our data into an X array that contains the features to train on, and a y array with the target variable"
   ]
  },
  {
   "cell_type": "code",
   "execution_count": 9,
   "metadata": {
    "_uuid": "830591f99de9715241e688bf9ce265e979401ff5",
    "execution": {
     "iopub.execute_input": "2021-08-05T13:30:57.328966Z",
     "iopub.status.busy": "2021-08-05T13:30:57.328240Z",
     "iopub.status.idle": "2021-08-05T13:30:57.345999Z",
     "shell.execute_reply": "2021-08-05T13:30:57.345408Z"
    },
    "jupyter": {
     "source_hidden": true
    },
    "papermill": {
     "duration": 0.03417,
     "end_time": "2021-08-05T13:30:57.346669",
     "exception": false,
     "start_time": "2021-08-05T13:30:57.312499",
     "status": "completed"
    },
    "tags": []
   },
   "outputs": [],
   "source": [
    "X=df_final.iloc[:,1:14]\n",
    "y=df_final['AveragePrice']\n",
    "from sklearn.model_selection import train_test_split\n",
    "X_train,X_test,y_train,y_test=train_test_split(X,y,test_size=0.2,random_state=42)"
   ]
  },
  {
   "cell_type": "markdown",
   "metadata": {
    "_uuid": "ea730c77a31cde9de98263079a189accb8b5772b",
    "papermill": {
     "duration": 0.008388,
     "end_time": "2021-08-05T13:30:57.369621",
     "exception": false,
     "start_time": "2021-08-05T13:30:57.361233",
     "status": "completed"
    },
    "tags": []
   },
   "source": [
    "Creating and Training the Model"
   ]
  },
  {
   "cell_type": "code",
   "execution_count": 10,
   "metadata": {
    "_uuid": "eb37015e78974e5fd2ae7e13d065c8ab0a9c6948",
    "execution": {
     "iopub.execute_input": "2021-08-05T13:30:57.393742Z",
     "iopub.status.busy": "2021-08-05T13:30:57.392916Z",
     "iopub.status.idle": "2021-08-05T13:31:07.452032Z",
     "shell.execute_reply": "2021-08-05T13:31:07.451217Z"
    },
    "jupyter": {
     "source_hidden": true
    },
    "papermill": {
     "duration": 10.074373,
     "end_time": "2021-08-05T13:31:07.452355",
     "exception": false,
     "start_time": "2021-08-05T13:30:57.377982",
     "status": "completed"
    },
    "tags": []
   },
   "outputs": [],
   "source": [
    "from sklearn.ensemble import RandomForestRegressor\n",
    "rdr = RandomForestRegressor(\n",
    "    n_estimators=n_estimators,\n",
    "    max_features=max_features\n",
    ")\n",
    "rdr.fit(X_train,y_train)\n",
    "pred=rdr.predict(X_test)"
   ]
  },
  {
   "cell_type": "code",
   "execution_count": 11,
   "metadata": {
    "_uuid": "7ed5b8d4e8abb44a4b548c13ac9fb2d65227d1c5",
    "execution": {
     "iopub.execute_input": "2021-08-05T13:31:07.475609Z",
     "iopub.status.busy": "2021-08-05T13:31:07.474815Z",
     "iopub.status.idle": "2021-08-05T13:31:07.478312Z",
     "shell.execute_reply": "2021-08-05T13:31:07.477464Z"
    },
    "jupyter": {
     "source_hidden": true
    },
    "papermill": {
     "duration": 0.017118,
     "end_time": "2021-08-05T13:31:07.478567",
     "exception": false,
     "start_time": "2021-08-05T13:31:07.461449",
     "status": "completed"
    },
    "tags": []
   },
   "outputs": [],
   "source": [
    "#%%capture cap --no-stderr\n",
    "#print(np.sqrt(mean_squared_error(y_test, pred)))"
   ]
  },
  {
   "cell_type": "code",
   "execution_count": 12,
   "metadata": {
    "execution": {
     "iopub.execute_input": "2021-08-05T13:31:07.504284Z",
     "iopub.status.busy": "2021-08-05T13:31:07.503211Z",
     "iopub.status.idle": "2021-08-05T13:31:07.507359Z",
     "shell.execute_reply": "2021-08-05T13:31:07.506668Z"
    },
    "jupyter": {
     "source_hidden": true
    },
    "papermill": {
     "duration": 0.018735,
     "end_time": "2021-08-05T13:31:07.507606",
     "exception": false,
     "start_time": "2021-08-05T13:31:07.488871",
     "status": "completed"
    },
    "tags": []
   },
   "outputs": [],
   "source": [
    "#with open(output_rmse, 'w') as f:\n",
    "#    f.write(cap.stdout)"
   ]
  },
  {
   "cell_type": "code",
   "execution_count": 13,
   "metadata": {
    "execution": {
     "iopub.execute_input": "2021-08-05T13:31:07.537775Z",
     "iopub.status.busy": "2021-08-05T13:31:07.536708Z",
     "iopub.status.idle": "2021-08-05T13:31:07.578642Z",
     "shell.execute_reply": "2021-08-05T13:31:07.577982Z"
    },
    "jupyter": {
     "source_hidden": true
    },
    "papermill": {
     "duration": 0.060578,
     "end_time": "2021-08-05T13:31:07.579007",
     "exception": false,
     "start_time": "2021-08-05T13:31:07.518429",
     "status": "completed"
    },
    "tags": []
   },
   "outputs": [
    {
     "data": {
      "text/plain": [
       "<sqlalchemy.engine.result.ResultProxy at 0x7ff6bf8b4850>"
      ]
     },
     "execution_count": 13,
     "metadata": {},
     "output_type": "execute_result"
    }
   ],
   "source": [
    "cnx.execute(\"\"\"\n",
    "    INSERT INTO ml.accuracies (ml_id, ml_date, accuracy) VALUES ('{0}', '{1}', {2}) \n",
    "    ON CONFLICT (ml_id, ml_date) \n",
    "    DO\n",
    "        UPDATE SET accuracy = {2};\n",
    "    \"\"\".format(ml_id, ml_date, np.sqrt(mean_squared_error(y_test, pred))))"
   ]
  }
 ],
 "metadata": {
  "kernelspec": {
   "display_name": "Python 3",
   "language": "python",
   "name": "python3"
  },
  "language_info": {
   "codemirror_mode": {
    "name": "ipython",
    "version": 3
   },
   "file_extension": ".py",
   "mimetype": "text/x-python",
   "name": "python",
   "nbconvert_exporter": "python",
   "pygments_lexer": "ipython3",
   "version": "3.7.10"
  },
  "papermill": {
   "duration": 14.096536,
   "end_time": "2021-08-05T13:31:08.111786",
   "environment_variables": {},
   "exception": null,
   "input_path": "/usr/local/airflow/include/notebooks/avocado_prediction.ipynb",
   "output_path": "/tmp/out-model-avocado-prediction-auto_100.ipynb",
   "parameters": {
    "filepath": "/tmp/avocado.csv",
    "max_features": "auto",
    "ml_id": "auto_100",
    "n_estimators": 100
   },
   "start_time": "2021-08-05T13:30:54.015250",
   "version": "2.1.2"
  }
 },
 "nbformat": 4,
 "nbformat_minor": 4
}